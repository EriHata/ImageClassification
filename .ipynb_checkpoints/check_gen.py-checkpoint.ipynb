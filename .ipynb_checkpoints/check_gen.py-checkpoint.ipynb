{
 "cells": [
  {
   "cell_type": "code",
   "execution_count": 1,
   "metadata": {},
   "outputs": [
    {
     "name": "stderr",
     "output_type": "stream",
     "text": [
      "/Users/eri/opt/anaconda3/envs/tf180/lib/python3.6/site-packages/numpy/core/_asarray.py:136: VisibleDeprecationWarning: Creating an ndarray from ragged nested sequences (which is a list-or-tuple of lists-or-tuples-or ndarrays with different lengths or shapes) is deprecated. If you meant to do this, you must specify 'dtype=object' when creating the ndarray\n",
      "  return array(a, dtype, copy=False, order=order, subok=True)\n"
     ]
    }
   ],
   "source": [
    "from PIL import Image\n",
    "import os, glob\n",
    "import numpy as np\n",
    "from sklearn.model_selection import cross_val_score, train_test_split\n",
    "\n",
    "classes = ['monkey', 'boar', 'crow']\n",
    "num_classes = len(classes)\n",
    "image_size = 50\n",
    "\n",
    "# 画像読み込み\n",
    "X = []  # 画像データ\n",
    "Y = []  # ラベル\n",
    "for index, classlabel in enumerate(classes):\n",
    "\tphotos_dir = './' + classlabel\n",
    "\tfiles = glob.glob(photos_dir + '/*.jpg')  # globはパターン一致でファイル一致欄を取得\n",
    "\tfor i, file in enumerate(files):\n",
    "\t\tif i >= 200:  # fileが200個を超えたらループを抜ける\n",
    "\t\t\tbreak\n",
    "\t\timage = Image.open(file)                         # pathを指定して画像読み込み\n",
    "\t\timage = image.convert('RGB')                     # 8bitのRGBモードに変換する\n",
    "\t\timage = image.resize((image_size, image_size))   # resize\n",
    "\t\tdata = np.asarray(image)                         # ndarrayに変換\n",
    "\t\t\n",
    "\t\tX.append(data)                                   # 画像データを格納\n",
    "\t\tY.append(index)                                  # ラベル　0, 1, 2を格納\n",
    "\n",
    "# リストをdnarrayに変換\n",
    "X = np.array(X)\n",
    "Y = np.array(Y)\n",
    "\n",
    "# notebookでデータができているか確認\n",
    "\n",
    "# X, Yをtrainとtestに分離する\n",
    "X_train, X_test, y_train, y_test = train_test_split(X, Y, stratify=Y)\n",
    "xy = (X_train, X_test, y_train, y_test)   # fileに一旦保存して後のプログラムから使えるようにする\n",
    "np.save('.animal.npy', xy)\n"
   ]
  },
  {
   "cell_type": "code",
   "execution_count": 3,
   "metadata": {},
   "outputs": [
    {
     "name": "stdout",
     "output_type": "stream",
     "text": [
      "391\n",
      "131\n"
     ]
    }
   ],
   "source": [
    "print(len(X_train))\n",
    "print(len(X_test))\n",
    "print(len(y_train))\n",
    "print(len(y_test))"
   ]
  },
  {
   "cell_type": "code",
   "execution_count": null,
   "metadata": {},
   "outputs": [],
   "source": [
    "len(X_test)"
   ]
  }
 ],
 "metadata": {
  "kernelspec": {
   "display_name": "Python 3",
   "language": "python",
   "name": "python3"
  },
  "language_info": {
   "codemirror_mode": {
    "name": "ipython",
    "version": 3
   },
   "file_extension": ".py",
   "mimetype": "text/x-python",
   "name": "python",
   "nbconvert_exporter": "python",
   "pygments_lexer": "ipython3",
   "version": "3.6.11"
  }
 },
 "nbformat": 4,
 "nbformat_minor": 4
}
